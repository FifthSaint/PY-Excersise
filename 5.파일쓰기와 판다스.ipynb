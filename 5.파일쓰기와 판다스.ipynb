{
 "cells": [
  {
   "cell_type": "markdown",
   "id": "d81f378b",
   "metadata": {},
   "source": [
    "# 1. 파일 쓰기\n",
    "input()은 사용자로부터 문자열을 입력 받는 함수입니다.  \n",
    "아래 코드 블럭을 실행해서 특징을 확인해 보십시오."
   ]
  },
  {
   "cell_type": "code",
   "execution_count": null,
   "id": "6ed21555",
   "metadata": {},
   "outputs": [],
   "source": [
    "i = input(\"아무 문자나 입력해주세요\")"
   ]
  },
  {
   "cell_type": "code",
   "execution_count": null,
   "id": "36ef5315",
   "metadata": {},
   "outputs": [],
   "source": [
    "print(i)"
   ]
  },
  {
   "cell_type": "markdown",
   "id": "a17b8ff0",
   "metadata": {},
   "source": [
    "input 함수를 활용해서 사용자에게 \"오늘의 일기?\" 입력을 받고  \n",
    "그 내용을 '일기.txt' 파일에 저장하는 코드를 짜 보십시오.  \n",
    "단 파일에 쓸 때 기존 일기 내용을 그대로 유지하면서 새 내용을 입력해야 합니다(open 모드 a 참조)  "
   ]
  },
  {
   "cell_type": "markdown",
   "id": "3dbc8743",
   "metadata": {},
   "source": [
    "# 2. 판다스\n",
    "\n",
    "판다스(pandas) 라이브러리를 활용해 임의의 데이터프레임을 하나 만들어 보십시오"
   ]
  },
  {
   "cell_type": "code",
   "execution_count": null,
   "id": "753b473f",
   "metadata": {},
   "outputs": [],
   "source": []
  },
  {
   "cell_type": "markdown",
   "id": "3b12c0ac",
   "metadata": {},
   "source": [
    "# 3. 판다스 읽고 쓰기\n",
    "만드신 데이터프레임을 임의 이름의 csv 파일로 저장하고, 그 csv 파일을 새 변수로 읽어 들이는 코드를 짜 보십시오"
   ]
  },
  {
   "cell_type": "code",
   "execution_count": null,
   "id": "45eef146",
   "metadata": {},
   "outputs": [],
   "source": []
  }
 ],
 "metadata": {
  "kernelspec": {
   "display_name": "Python 3",
   "language": "python",
   "name": "python3"
  },
  "language_info": {
   "codemirror_mode": {
    "name": "ipython",
    "version": 3
   },
   "file_extension": ".py",
   "mimetype": "text/x-python",
   "name": "python",
   "nbconvert_exporter": "python",
   "pygments_lexer": "ipython3",
   "version": "3.8.8"
  }
 },
 "nbformat": 4,
 "nbformat_minor": 5
}
