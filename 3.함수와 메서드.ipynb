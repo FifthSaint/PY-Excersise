{
 "cells": [
  {
   "cell_type": "markdown",
   "metadata": {},
   "source": [
    "## 1. 다음 함수를 정의하세요\n",
    "\n",
    "1. 한 숫자를 받아서 제곱을 반환(return)하는 함수(예: 3을 입력값으로 받으면 9를 되돌려야 합니다)\n",
    "2. 두 숫자를 받아서 몫을 반환(return)하는 함수 (예: 10과 4를 입력값으로 받으면 2를 반환. [몫을 반환하는 연산자](https://wikidocs.net/12#_8) 참조)\n",
    "3. 이름(ㅇㅇㅇ)을 받아서 \"ㅇㅇㅇ님, 만나서 반갑습니다\"를 출력하는 함수 ([문자열 연산](https://wikidocs.net/13#concatenation) 참조) \n"
   ]
  },
  {
   "cell_type": "code",
   "execution_count": null,
   "metadata": {},
   "outputs": [],
   "source": []
  },
  {
   "cell_type": "markdown",
   "metadata": {},
   "source": [
    "## 2. 다음 함수를 활용해 코드를 완성하십시오"
   ]
  },
  {
   "cell_type": "code",
   "execution_count": null,
   "metadata": {},
   "outputs": [],
   "source": [
    "# 다음은 뒤집어도 같은 단어(회문, palindrome)인지 확인하는 함수입니다(예: 요기요)\n",
    "# 출처: 천재가 되고 싶은 멍청한 토끼(https://mungto.tistory.com/94)\n",
    "def palindromeCheck(m_str): \n",
    "   #문자 길이만큼 반복\n",
    "    for i in range(0, len(m_str)):\n",
    "      #앞과 뒤를 비교하며 틀리다면 False를 리턴하고 모두통과라면 True 리턴\n",
    "      if m_str[i] != m_str[len(m_str)-1-i]:\n",
    "         return False\n",
    "    return True"
   ]
  },
  {
   "cell_type": "code",
   "execution_count": null,
   "metadata": {},
   "outputs": [],
   "source": [
    "# 위 함수를 이용해 회문이면 \"흥미로운 단어네요\", 회문이 아니면 \"평범한 단어네요\"를 출력하는 코드를 짜십시오(if 참조)\n"
   ]
  },
  {
   "cell_type": "markdown",
   "metadata": {},
   "source": [
    "## 3. 리스트 메서드를 활용해 다음을 완성하십시오"
   ]
  },
  {
   "cell_type": "code",
   "execution_count": null,
   "metadata": {},
   "outputs": [],
   "source": [
    "s = ['수성', '금성', '지구', '화성', '목성', '토성', '천왕성', '해왕성']"
   ]
  },
  {
   "cell_type": "code",
   "execution_count": null,
   "metadata": {},
   "outputs": [],
   "source": [
    "# s에 '명왕성'을 추가하세요"
   ]
  },
  {
   "cell_type": "code",
   "execution_count": null,
   "metadata": {},
   "outputs": [],
   "source": [
    "# s에서 '명왕성'을 제거하세요"
   ]
  },
  {
   "cell_type": "code",
   "execution_count": null,
   "metadata": {},
   "outputs": [],
   "source": [
    "# s의 순서를 뒤집은 새 리스트를 만드세요"
   ]
  },
  {
   "cell_type": "markdown",
   "metadata": {},
   "source": [
    "## 4. 문자열 메서드의 join을 활용해 리스트 s를 '/' 문자로 결합된 하나의 문자열로 변환하십시오"
   ]
  },
  {
   "cell_type": "code",
   "execution_count": null,
   "metadata": {},
   "outputs": [],
   "source": []
  }
 ],
 "metadata": {
  "kernelspec": {
   "display_name": "Python 3",
   "language": "python",
   "name": "python3"
  },
  "language_info": {
   "codemirror_mode": {
    "name": "ipython",
    "version": 3
   },
   "file_extension": ".py",
   "mimetype": "text/x-python",
   "name": "python",
   "nbconvert_exporter": "python",
   "pygments_lexer": "ipython3",
   "version": "3.8.8"
  }
 },
 "nbformat": 4,
 "nbformat_minor": 2
}
