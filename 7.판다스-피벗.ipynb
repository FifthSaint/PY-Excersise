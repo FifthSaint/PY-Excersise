{
 "cells": [
  {
   "cell_type": "markdown",
   "id": "05ae1698",
   "metadata": {},
   "source": [
    "# 10강 실습예제"
   ]
  },
  {
   "cell_type": "code",
   "execution_count": null,
   "id": "d8df4c00",
   "metadata": {},
   "outputs": [],
   "source": [
    "import pandas as pd"
   ]
  },
  {
   "cell_type": "markdown",
   "id": "d43f1c5f",
   "metadata": {},
   "source": [
    "# 1. 피벗테이블\n",
    "판다스의 pivot_table 함수를 활용해 타이타닉 승객 데이터(titanic.csv)에서 다음을 구해 보십시오.  \n",
    "객실 등급(Pclass)과 성별(Sex) 별 생존율에 대한 표를 만들어 보십시오.  \n",
    "(힌트가 필요하신 경우 아래 ***힌트***를 클릭하면 보실 수 있습니다)"
   ]
  },
  {
   "cell_type": "markdown",
   "id": "dd8fb408",
   "metadata": {},
   "source": [
    "<details>\n",
    "<summary>***힌트***</summary>\n",
    "<div markdown=\"1\">\n",
    "*pivot_table은 표의 왼쪽(index)과 위(columns)를 직접 지정해 표를 구성할 수 있는 함수입니다.<br>\n",
    "Pclass와 Sex를 적절히 배정해 보십시오. <br> \n",
    "*생존율은 (살아 남은 인원)/(전체 인원)으로 정의할 수 있는데  <br>\n",
    "데이터 항목 가운데 Survived는 살아 남은 이는 1, 숨진 이는 0인 항목이므로 간단한 aggfunc를 통해 생존율을 구할 수 있습니다.<br>\n",
    "</div>\n",
    "</details>"
   ]
  },
  {
   "cell_type": "code",
   "execution_count": null,
   "id": "38219768",
   "metadata": {},
   "outputs": [],
   "source": []
  },
  {
   "cell_type": "markdown",
   "id": "61070831",
   "metadata": {},
   "source": [
    "## 2. 표 합치기\n",
    "판다스 merge 함수를 활용해  \n",
    "미세먼지 데이터(air_quality_pm25_long.csv)에 측정한 장소(location)의 위경도 값을 추가해 보십시오.  \n",
    "위경도 값의 데이터는 station_coord.csv에서 가져올 수 있습니다."
   ]
  },
  {
   "cell_type": "code",
   "execution_count": null,
   "id": "438a62a9",
   "metadata": {},
   "outputs": [],
   "source": []
  },
  {
   "cell_type": "markdown",
   "id": "099aedb3",
   "metadata": {},
   "source": [
    "## 3. 날짜시간 데이터 다루기\n",
    "위 2번의 데이터프레임을 보면 측정 날짜와 시간이 포함된 복잡한 시간 데이터(date.utc)가 있습니다.  \n",
    "date.utc로부터 측정한 시간만 추출한 time이라는 새 열을 만드십시오."
   ]
  },
  {
   "cell_type": "markdown",
   "id": "2f4fb6c3",
   "metadata": {},
   "source": [
    "<details>\n",
    "<summary>***힌트***</summary>\n",
    "<div markdown=\"1\">\n",
    "    *날짜시간 데이터에 대한 메서드를 활용하려면 우선 해당 열을 날짜시간 데이터로 명시적으로 지정해야 합니다. <br> \n",
    "    *날짜시간 메서드 dt에서 시간만 추출해주는 속성은 hour 입니다. \n",
    "</div>\n",
    "</details>"
   ]
  },
  {
   "cell_type": "code",
   "execution_count": null,
   "id": "4ec61ef9",
   "metadata": {},
   "outputs": [],
   "source": []
  },
  {
   "cell_type": "markdown",
   "id": "65fd931a",
   "metadata": {},
   "source": [
    "## 4. 문자 데이터 다루기\n",
    "타이타닉 승객 데이터에서 판다스 문자 데이터 메서드를 활용해  \n",
    "의사(Dr.)가 몇 명이었는지 살펴 보십시오"
   ]
  },
  {
   "cell_type": "markdown",
   "id": "939b6e7e",
   "metadata": {},
   "source": [
    "<details>\n",
    "<summary>***힌트***</summary>\n",
    "<div markdown=\"1\">\n",
    "    *이름(Name) 열에 \"Dr.\"가 포함된 경우 의사라 볼 수 있겠습니다.<br> \n",
    "    *contains 함수로 \"Dr.\" 포함 여부를 살펴보는 경우 \"Dr\"이 포함된 경우가 모두 나옵니다.<br>\n",
    "    판다스의 문자 데이터 다루는 방식(regex)에서 \".\"은 별도의 의미를 갖기 때문인데요 <br>\n",
    "    검색 결과 가운데 Dr.의 숫자를 세어도 되겠지만 정확히 검색하고자 하는 경우 이스케이프 문자(\\ - 한글 키보드의 원화표시)를 활용해서 <br>\n",
    "    \"Dr\\.\"을 검색하시면 됩니다.\n",
    "</div>\n",
    "</details>"
   ]
  },
  {
   "cell_type": "code",
   "execution_count": null,
   "id": "836f5276",
   "metadata": {},
   "outputs": [],
   "source": []
  }
 ],
 "metadata": {
  "kernelspec": {
   "display_name": "Python 3",
   "language": "python",
   "name": "python3"
  },
  "language_info": {
   "codemirror_mode": {
    "name": "ipython",
    "version": 3
   },
   "file_extension": ".py",
   "mimetype": "text/x-python",
   "name": "python",
   "nbconvert_exporter": "python",
   "pygments_lexer": "ipython3",
   "version": "3.8.8"
  }
 },
 "nbformat": 4,
 "nbformat_minor": 5
}
