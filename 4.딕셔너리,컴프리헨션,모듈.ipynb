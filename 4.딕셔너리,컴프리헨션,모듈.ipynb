{
 "cells": [
  {
   "cell_type": "markdown",
   "id": "02c1e8d1",
   "metadata": {},
   "source": [
    "## 1. 딕셔너리\n",
    "다음은 산이름(key)과 높이(value)로 구성된 딕셔너리입니다.  \n",
    "딕셔너리의 items() 메서드와 for 루프를 활용해서 다음 mount 딕셔너리에서 높이가 1700(m) 미만인 산의 이름을 출력하는 코드를 짜십시오"
   ]
  },
  {
   "cell_type": "code",
   "execution_count": null,
   "id": "e06c3c1e",
   "metadata": {},
   "outputs": [],
   "source": [
    "mount = {\n",
    "    '한라산': 1950, \n",
    "    '지리산': 1915,\n",
    "    '설악산': 1707,\n",
    "    '덕유산': 1614,\n",
    "    '계방산': 1577\n",
    "}"
   ]
  },
  {
   "cell_type": "markdown",
   "id": "810c400f",
   "metadata": {},
   "source": [
    "## 2. 리스트 컴프리헨션\n",
    "다음은 어떤 클래스 학생의 출생 연도를 모아 놓은 리스트입니다. 이 리스트로부터 현재(2022년) 나이(만으로 계산)를 모아 놓은 리스트를 만들어 보십시오.  \n",
    "여러 방법이 있을 수 있는데요, [리스트 컴프리헨션](https://docs.python.org/ko/3/tutorial/datastructures.html#list-comprehensions)을 참조하십시오."
   ]
  },
  {
   "cell_type": "code",
   "execution_count": null,
   "id": "ab247ec5",
   "metadata": {},
   "outputs": [],
   "source": [
    "출생연도 = [1981, 1973, 1988, 1986, 1982, 1980, 1992]"
   ]
  },
  {
   "cell_type": "markdown",
   "id": "33d8cb24",
   "metadata": {},
   "source": [
    "## 3. 모듈\n",
    "7강 강의를 참조하여 6강 실습예제를 주피터 노트북 파일이 아닌 임의의 .py 파일로 저장해 보십시오.  \n",
    "저장한 파일을 자신의 anaconda가 참조하는 디렉토리에 복사한 뒤  \n",
    "(설치 때 설정을 바꾸지 않았다면 디렉토리는 보통 C:\\사용자\\\\(자신의 윈도 사용자 이름)\\Anconda3\\Lib\\site-packages\\ 입니다)  \n",
    "본 주피터 노트북에서 모듈을 불러와(import) 직접 만드신 함수가 잘 작동하는지 한 번 살펴보십시오.   "
   ]
  },
  {
   "cell_type": "code",
   "execution_count": null,
   "id": "80941ba7",
   "metadata": {},
   "outputs": [],
   "source": [
    "# 다음은 6강 예제 풀이 코드를 kos.py라는 이름으로 저장한 경우를 실험한 코드 예입니다. 참조하십시오\n",
    "import kos\n",
    "kos.회문('소주 만 병 만 주소')"
   ]
  },
  {
   "cell_type": "code",
   "execution_count": null,
   "id": "55ee46a2",
   "metadata": {},
   "outputs": [],
   "source": []
  }
 ],
 "metadata": {
  "kernelspec": {
   "display_name": "Python 3",
   "language": "python",
   "name": "python3"
  },
  "language_info": {
   "codemirror_mode": {
    "name": "ipython",
    "version": 3
   },
   "file_extension": ".py",
   "mimetype": "text/x-python",
   "name": "python",
   "nbconvert_exporter": "python",
   "pygments_lexer": "ipython3",
   "version": "3.8.8"
  }
 },
 "nbformat": 4,
 "nbformat_minor": 5
}
