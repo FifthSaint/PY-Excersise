{
 "cells": [
  {
   "cell_type": "markdown",
   "id": "8eb0919e",
   "metadata": {},
   "source": [
    "# 1. while\n",
    "while 문을 활용하여 1부터 1000 사이 17의 배수(17로 나누었을 때 나머지가 0인 수, a % 17 == 0)를  \n",
    "모두 출력하는 코드를 짜십시오."
   ]
  },
  {
   "cell_type": "code",
   "execution_count": null,
   "id": "55f31894",
   "metadata": {},
   "outputs": [],
   "source": []
  },
  {
   "cell_type": "markdown",
   "id": "b5961355",
   "metadata": {},
   "source": [
    "# 2. for\n",
    "For 문을 활용하여 다음 명단 리스트에서 이름만 출력하는 코드를 짜십시오."
   ]
  },
  {
   "cell_type": "code",
   "execution_count": null,
   "id": "3e79bce2",
   "metadata": {},
   "outputs": [],
   "source": [
    "예제리스트 = ['강동원', '송강호', '하정우', '이정재', '이병헌', '오정세', '송중기']"
   ]
  },
  {
   "cell_type": "code",
   "execution_count": null,
   "id": "a82f5eff",
   "metadata": {},
   "outputs": [],
   "source": []
  }
 ],
 "metadata": {
  "kernelspec": {
   "display_name": "Python 3",
   "language": "python",
   "name": "python3"
  },
  "language_info": {
   "codemirror_mode": {
    "name": "ipython",
    "version": 3
   },
   "file_extension": ".py",
   "mimetype": "text/x-python",
   "name": "python",
   "nbconvert_exporter": "python",
   "pygments_lexer": "ipython3",
   "version": "3.8.8"
  }
 },
 "nbformat": 4,
 "nbformat_minor": 5
}
