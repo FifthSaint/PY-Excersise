{
 "cells": [
  {
   "cell_type": "markdown",
   "id": "dd2eed58",
   "metadata": {},
   "source": [
    "# 판다스 실습 2\n",
    "9강 강의 영상을 참조하시어 pandas 라이브러리와 실습용 데이터 파일  \n",
    "(eCampus에 업로드한 air_quality_no2.csv, titanic.csv 파일)을  \n",
    "이용해 다음 연습을 해 보십시오."
   ]
  },
  {
   "cell_type": "code",
   "execution_count": null,
   "id": "26fb8d9e",
   "metadata": {},
   "outputs": [],
   "source": [
    "import pandas as pd"
   ]
  },
  {
   "cell_type": "markdown",
   "id": "1bc9863a",
   "metadata": {},
   "source": [
    "## 1. 데이터프레임의 부분 선택하기\n",
    "타이타닉 승객의 데이터(titanic.csv)를 판다스 데이터프레임으로 읽어 들인 뒤  \n",
    "승객 가운데 생존자만 선택(Survived 열의 값 1)해 보십시오. 몇 명인가요?  "
   ]
  },
  {
   "cell_type": "code",
   "execution_count": null,
   "id": "89ab33ff",
   "metadata": {},
   "outputs": [],
   "source": []
  },
  {
   "cell_type": "markdown",
   "id": "f062aedc",
   "metadata": {},
   "source": [
    "## 2. 새 열 만들기\n",
    "공기질을 측정한 데이터인 air_quality_no2.csv의 데이터를 판다스 데이터프레임으로 읽어 들인 뒤  \n",
    "안트워프(antwerp), 파리(paris), 런던(london) 세 곳의 평균값을 해당 데이터프레임의 새 열로 추가해 보십시오."
   ]
  },
  {
   "cell_type": "code",
   "execution_count": null,
   "id": "94af5773",
   "metadata": {},
   "outputs": [],
   "source": []
  },
  {
   "cell_type": "markdown",
   "id": "ff82fe66",
   "metadata": {},
   "source": [
    "# 3. 기술 통계값 구하기\n",
    "1번에서 구한 타이타닉 생존자를 성별로 구분해서(groupby) 남녀 각각 몇 명이었는지 확인해 보십시오(count 함수)  \n",
    "객실 등급(Pclass)별로 구분해서 등급별 생존자의 평균 나이는 어떻게 되는지 확인해 보십시오(mean 함수)  \n",
    "(1번 생존자 그룹을 별도의 데이터프레임으로 변수에 저장한 뒤 하는 방법 또는 저장 않고 바로 계산 하는 방법이 있습니다)"
   ]
  },
  {
   "cell_type": "code",
   "execution_count": null,
   "id": "7d3ff534",
   "metadata": {},
   "outputs": [],
   "source": []
  }
 ],
 "metadata": {
  "kernelspec": {
   "display_name": "Python 3",
   "language": "python",
   "name": "python3"
  },
  "language_info": {
   "codemirror_mode": {
    "name": "ipython",
    "version": 3
   },
   "file_extension": ".py",
   "mimetype": "text/x-python",
   "name": "python",
   "nbconvert_exporter": "python",
   "pygments_lexer": "ipython3",
   "version": "3.8.8"
  }
 },
 "nbformat": 4,
 "nbformat_minor": 5
}
