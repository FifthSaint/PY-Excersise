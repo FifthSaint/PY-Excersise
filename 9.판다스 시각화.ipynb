{
 "cells": [
  {
   "cell_type": "markdown",
   "id": "2a885ed4",
   "metadata": {},
   "source": [
    "# 13강 실습 예제"
   ]
  },
  {
   "cell_type": "code",
   "execution_count": null,
   "id": "5ee31f84",
   "metadata": {},
   "outputs": [],
   "source": [
    "import pandas as pd\n",
    "import matplotlib.pyplot as plt"
   ]
  },
  {
   "cell_type": "markdown",
   "id": "67b58784",
   "metadata": {},
   "source": [
    "## 1. 피벗+시각화\n",
    "예제 데이터 파일 가운데 미세먼지 데이터(air_quality_pm25_long.csv)에서  \n",
    "피벗 기능을 활용해 국가(country)별 수치(value)의 변동을 나타내는 선 그래프를 그려 보십시오."
   ]
  },
  {
   "cell_type": "code",
   "execution_count": null,
   "id": "d42da671",
   "metadata": {},
   "outputs": [],
   "source": []
  },
  {
   "cell_type": "markdown",
   "id": "4fa044c5",
   "metadata": {},
   "source": [
    "## 2. 기술 통계+시각화\n",
    "타이타닉 승객 데이터에서 객실 등급(Pclass)별 생존률(Survived)을  \n",
    "파이 차트로 그려 보십시오."
   ]
  },
  {
   "cell_type": "code",
   "execution_count": null,
   "id": "241fb928",
   "metadata": {},
   "outputs": [],
   "source": []
  },
  {
   "cell_type": "markdown",
   "id": "a8a42b5b",
   "metadata": {},
   "source": [
    "## 3. 타임시리즈 + 시각화\n",
    "1번의 미세먼지 데이터 파일을 date.utc 칼럼이 날짜시간 인덱스 역할을 하도록 로드하십시오.  \n",
    "그리고 2019년 6월 1일부터 2019년 6월 18일까지 데이터만 선 그래프로 그려 보십시오."
   ]
  },
  {
   "cell_type": "code",
   "execution_count": null,
   "id": "db68ae18",
   "metadata": {},
   "outputs": [],
   "source": []
  }
 ],
 "metadata": {
  "kernelspec": {
   "display_name": "Python 3",
   "language": "python",
   "name": "python3"
  },
  "language_info": {
   "codemirror_mode": {
    "name": "ipython",
    "version": 3
   },
   "file_extension": ".py",
   "mimetype": "text/x-python",
   "name": "python",
   "nbconvert_exporter": "python",
   "pygments_lexer": "ipython3",
   "version": "3.8.8"
  }
 },
 "nbformat": 4,
 "nbformat_minor": 5
}
