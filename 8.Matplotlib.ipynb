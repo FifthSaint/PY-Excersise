{
 "cells": [
  {
   "cell_type": "markdown",
   "id": "e1be2aa8",
   "metadata": {},
   "source": [
    "# 파이썬 matplotlib을 활용한 시각화"
   ]
  },
  {
   "cell_type": "code",
   "execution_count": null,
   "id": "67ffafc7",
   "metadata": {},
   "outputs": [],
   "source": [
    "import pandas as pd\n",
    "import matplotlib.pyplot as plt"
   ]
  },
  {
   "cell_type": "markdown",
   "id": "184a9a49",
   "metadata": {},
   "source": [
    "## 1. 간단한 시각화\n",
    "10강 실습용 데이터 파일 가운데 no2 공기질을 측정한 파일(air_quality_no2_long.csv)을 판다스로 읽어들인 뒤   \n",
    "x축은 날짜, y축은 측정치(value)로 선 그래프를 그려 보십시오."
   ]
  },
  {
   "cell_type": "markdown",
   "id": "9125426b",
   "metadata": {},
   "source": [
    "<details>\n",
    "<summary>***힌트***</summary>\n",
    "<div markdown=\"1\">\n",
    "    x축을 쉽게 날짜로 설정하는 방법은 데이터프레임을 읽어들일 때<br>\n",
    "    날짜가 나오는 칼럼(date.utc)을 날짜 데이터로 읽어들이고, 인덱스로 지정하는 것입니다.<br>\n",
    "    pd.read_csv의 인자 가운데 인덱스를 몇 번째 칼럼으로 할 것인지(index_col),<br>\n",
    "    날짜는 바로 날짜 데이터로 해석할 것인지(parse_dates) 등을 설정한 뒤 읽어들이면 됩니다.<br>\n",
    "    보다 자세한 내용은 동영상 강의 내용을 참조하십시오.\n",
    "</div>\n",
    "</details>"
   ]
  },
  {
   "cell_type": "code",
   "execution_count": null,
   "id": "dfa80c50",
   "metadata": {},
   "outputs": [],
   "source": []
  },
  {
   "cell_type": "markdown",
   "id": "cc4368a8",
   "metadata": {},
   "source": [
    "## 2. 다른 차트로 그리기\n",
    "10강 실습용 데이터 파일 가운데 미세먼지(pm25)를 측정한 파일(air_quality_pm25_long.csv)을 읽어들인 뒤    \n",
    "기본 선 그래프가 아닌 영역형 차트(area)로 시각화 해 보십시오"
   ]
  },
  {
   "cell_type": "code",
   "execution_count": null,
   "id": "b727030b",
   "metadata": {},
   "outputs": [],
   "source": []
  },
  {
   "cell_type": "markdown",
   "id": "52b2884e",
   "metadata": {},
   "source": [
    "## 3. 간단한 스타일 변경\n",
    "위 2번 영역 차트의 색을 붉은 색(r)으로 바꿔 보십시오."
   ]
  },
  {
   "cell_type": "code",
   "execution_count": null,
   "id": "fb90d8d6",
   "metadata": {},
   "outputs": [],
   "source": []
  }
 ],
 "metadata": {
  "kernelspec": {
   "display_name": "Python 3",
   "language": "python",
   "name": "python3"
  },
  "language_info": {
   "codemirror_mode": {
    "name": "ipython",
    "version": 3
   },
   "file_extension": ".py",
   "mimetype": "text/x-python",
   "name": "python",
   "nbconvert_exporter": "python",
   "pygments_lexer": "ipython3",
   "version": "3.8.8"
  }
 },
 "nbformat": 4,
 "nbformat_minor": 5
}
