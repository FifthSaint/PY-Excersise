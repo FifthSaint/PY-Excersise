{
 "cells": [
  {
   "cell_type": "code",
   "execution_count": null,
   "metadata": {
    "colab": {},
    "colab_type": "code",
    "id": "qiqyYkYX7XsG"
   },
   "outputs": [],
   "source": [
    "동물농장 = ['말', '강아지', '병아리', '소', '양', '돼지', '닭']"
   ]
  },
  {
   "cell_type": "markdown",
   "metadata": {
    "colab_type": "text",
    "id": "Nn-J7eHN64TI"
   },
   "source": [
    "\n",
    "**1. 동물농장 리스트에서 인덱싱과 슬라이싱을 활용해 다음을 출력하세요**\n",
    "1. 병아리\n",
    "2. 강아지, 병아리, 소, 양\n",
    "3. 마지막 동물\n",
    "4. 처음부터 '소'까지 동물 모두\n",
    "5. '강아지'부터 끝까지 동물 모두\n",
    "\n",
    "***참고: 아래 '코드 셀'에 바로 답을 작성하시면 됩니다***"
   ]
  },
  {
   "cell_type": "code",
   "execution_count": null,
   "metadata": {
    "colab": {},
    "colab_type": "code",
    "id": "x1300ZQ0yEma"
   },
   "outputs": [],
   "source": []
  },
  {
   "cell_type": "markdown",
   "metadata": {},
   "source": [
    "**2. 다음 자료형의 데이터를 임의의 변수에 선언(assign)하세요**\n",
    "1. (튜플) 1, 1, 2, 3, 3, 3, 4, 5\n",
    "2. 위와 같은 데이터를 집합으로 선언하고 집합 안에 어떻게 들어가는지 확인해 보세요(확인은 선언한 변수명만 입력하거나 print()를 활용)\n",
    "3. 다음의 키(key)와 값(value)을 딕셔너리 자료형으로 선언해 보십시오.  \n",
    "        이름 : 펭수  \n",
    "        키(cm) : 210\n",
    "        몸무게(kg) : 90\n",
    "        시력 : 9.6"
   ]
  },
  {
   "cell_type": "markdown",
   "metadata": {
    "colab_type": "text",
    "id": "DUDufZb9zM2a"
   },
   "source": [
    "**3. 다음 코드 셀의 if문을 조건을 만족하도록 완성하세요**"
   ]
  },
  {
   "cell_type": "code",
   "execution_count": null,
   "metadata": {
    "colab": {},
    "colab_type": "code",
    "id": "r8q7eadPzbv3"
   },
   "outputs": [],
   "source": [
    "x = 42\n",
    "if _______: #100보다 작다는 조건문을 빈칸에 넣으십시오. !주의! 빈칸을 표시하기 위해 쓴 '__'는 작성 뒤 모두 지워야 에러가 나지 않습니다\n",
    "  print(\"100 보다 작습니다\")\n",
    "#이 셀을 실행하면 \"100 보다 작습니다\"가 출력되어야 합니다."
   ]
  },
  {
   "cell_type": "code",
   "execution_count": null,
   "metadata": {
    "colab": {},
    "colab_type": "code",
    "id": "B9BAtbu2D9kk"
   },
   "outputs": [],
   "source": [
    "y = __ #이 셀 실행시 \"10 보다 작습니다\"가 출력되도록 변수에 적당한 값을 선언해 주십시오\n",
    "if y >= 10:\n",
    "  print(\"10 보다 같거나 큽니다\")\n",
    "else:\n",
    "  print(\"10 보다 작습니다\")"
   ]
  },
  {
   "cell_type": "code",
   "execution_count": null,
   "metadata": {
    "colab": {},
    "colab_type": "code",
    "id": "p6vbESwMFH3K"
   },
   "outputs": [],
   "source": [
    "z = 999\n",
    "if ______: #99와 같지 않다는 조건문을 빈칸에 넣으십시오.\n",
    "  print(\"99가 아닙니다\")\n",
    "#이 셀을 실행하면 \"99가 아닙니다\"가 출력되어야 합니다"
   ]
  }
 ],
 "metadata": {
  "colab": {
   "collapsed_sections": [],
   "name": "4강 실습예제.ipynb",
   "provenance": []
  },
  "kernelspec": {
   "display_name": "Python 3",
   "language": "python",
   "name": "python3"
  },
  "language_info": {
   "codemirror_mode": {
    "name": "ipython",
    "version": 3
   },
   "file_extension": ".py",
   "mimetype": "text/x-python",
   "name": "python",
   "nbconvert_exporter": "python",
   "pygments_lexer": "ipython3",
   "version": "3.8.8"
  }
 },
 "nbformat": 4,
 "nbformat_minor": 1
}
